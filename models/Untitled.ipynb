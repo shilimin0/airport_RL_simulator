{
 "cells": [
  {
   "cell_type": "code",
   "execution_count": 2,
   "id": "ef7edc98-82a5-4bd9-9877-b8ff724e3ddb",
   "metadata": {},
   "outputs": [],
   "source": [
    "import json\n",
    "import numpy as np\n",
    "import pandas as pd\n",
    "FILE_NAME = 'D:/simulator/MARL/data/final_adjusted_coord.json'\n",
    "with open(FILE_NAME,'r') as f:\n",
    "    raw_traj = json.load(f)['raw_traj']\n",
    "processed_traj = [[] for _ in range(4)]\n",
    "for ind,sub in enumerate(raw_traj):\n",
    "    for line in sub:\n",
    "        processed_traj[ind].append(np.array(line)+ np.array([839,480])+np.array([-10,-10]))\n"
   ]
  },
  {
   "cell_type": "code",
   "execution_count": null,
   "id": "5f782407-53c5-4648-bcbe-365baa7479ff",
   "metadata": {},
   "outputs": [],
   "source": []
  },
  {
   "cell_type": "code",
   "execution_count": 13,
   "id": "d3df8802-6196-4882-93d3-a47dd1face70",
   "metadata": {},
   "outputs": [],
   "source": [
    "def load_holding_point():\n",
    "    FILE_NAME = 'D:/simulator/MARL/data/holding_point.json'\n",
    "    with open(FILE_NAME,'r') as f:\n",
    "        holding_point = json.load(f)['holding_point']\n",
    "    return holding_point\n",
    "\n",
    "def traj_preprocessing(traj,holding_index ,radius_time):\n",
    "    if radius_time == 0:\n",
    "        return traj\n",
    "    #for mutiple circle delay\n",
    "    traj = np.array(traj)\n",
    "    speed = np.sqrt(np.sum((traj[holding_index] -traj[holding_index-2])**2))\n",
    "    radius = speed*radius_time/(4*np.pi)\n",
    "    direction = traj[holding_index] -traj[holding_index-4]\n",
    "    unit = (direction/np.linalg.norm(direction, axis=0))*radius\n",
    "    center= np.empty_like(direction)\n",
    "    center[0] = -unit[1]\n",
    "    center[1] = unit[0]\n",
    "    center = center + traj[holding_index]\n",
    "    #angle = self.rotate_circle(center[0],center[1])\n",
    "    theta = np.linspace(0, 2*np.pi, int(radius_time))\n",
    "    x1 = -radius*np.cos(theta)+center[0]   #anticlock-wise\n",
    "    x2 = -radius*np.sin(theta)+center[1]\n",
    "    circle = np.stack((x1,x2),axis = 1)     # create the figure\n",
    "    dis = np.sum((circle - traj[holding_index])**2,axis = 1)\n",
    "    start_indx = np.argmin(dis)\n",
    "    circle = np.vstack((circle[start_indx+1::],circle[:start_indx]))\n",
    "    #circle = np.tile(circle,(delay_round,1))\n",
    "    final_traj = np.vstack((traj[:holding_index+1],circle,traj[holding_index+1::]))\n",
    "    return final_traj"
   ]
  },
  {
   "cell_type": "code",
   "execution_count": 14,
   "id": "8ec849be-73f8-4c0e-b998-99c827d01cf2",
   "metadata": {},
   "outputs": [],
   "source": [
    "def init_timeline():\n",
    "    FILE_NAME = 'D:/simulator/MARL/data/timeline_cutoff.json'\n",
    "    with open(FILE_NAME,'r') as f:\n",
    "        cutoff_point = json.load(f)['cut_off']\n",
    "    return cutoff_point\n",
    "cutoff_point = init_timeline()"
   ]
  },
  {
   "cell_type": "code",
   "execution_count": 57,
   "id": "17a4c7a3-9762-4564-acab-08b48d7824a3",
   "metadata": {},
   "outputs": [],
   "source": [
    "import copy\n",
    "holding_point = load_holding_point()\n",
    "TRAIN_X,TRAIN_Y = [],[]\n",
    "for ind,i in enumerate(processed_traj):\n",
    "    for indx,j in enumerate(i):\n",
    "        for delay in range(0,10):\n",
    "            traj = traj_preprocessing(copy.deepcopy(j),holding_point[ind][indx],delay*60)\n",
    "            cutoff = cutoff_point[ind][indx]+delay*60\n",
    "            for frame in range(cutoff):\n",
    "                TRAIN_X.append([traj[frame][0]/500,traj[frame][1]/500,ind+1,frame/60,delay])#x,y,delaytime,entry port,pasted time\n",
    "                TRAIN_Y.append((cutoff-frame)/60)\n",
    "                "
   ]
  },
  {
   "cell_type": "code",
   "execution_count": 58,
   "id": "c0f99b15-81ad-41fc-8171-8597717a43c4",
   "metadata": {},
   "outputs": [],
   "source": [
    "X,Y = copy.deepcopy(TRAIN_X),copy.deepcopy(TRAIN_Y)"
   ]
  },
  {
   "cell_type": "code",
   "execution_count": 59,
   "id": "88881077-7363-4236-9f60-91e4f2858786",
   "metadata": {},
   "outputs": [
    {
     "data": {
      "text/plain": [
       "array([[-2.58455047,  1.06307512, -0.83975315, -1.57841329, -1.69610178],\n",
       "       [-2.57918312,  1.06358016, -0.83975315, -1.57638187, -1.69610178],\n",
       "       [-2.57387967,  1.06406898, -0.83975315, -1.57435045, -1.69610178],\n",
       "       ...,\n",
       "       [ 0.10201155, -0.09986951,  1.59240822,  1.30214226,  1.45920102],\n",
       "       [ 0.10127636, -0.09810594,  1.59240822,  1.30417368,  1.45920102],\n",
       "       [ 0.10054118, -0.09635855,  1.59240822,  1.30620511,  1.45920102]])"
      ]
     },
     "execution_count": 59,
     "metadata": {},
     "output_type": "execute_result"
    }
   ],
   "source": [
    "import tensorflow as tf\n",
    "from sklearn import preprocessing\n",
    "scaler = preprocessing.StandardScaler().fit(X)\n",
    "X_scaled = scaler.transform(X)\n",
    "X_scaled"
   ]
  },
  {
   "cell_type": "code",
   "execution_count": 71,
   "id": "9ccd6a69-fa8d-4bbf-87c7-57f5fae49fe1",
   "metadata": {},
   "outputs": [
    {
     "data": {
      "text/plain": [
       "(1318590, 5)"
      ]
     },
     "execution_count": 71,
     "metadata": {},
     "output_type": "execute_result"
    }
   ],
   "source": [
    "np.array(X).shape"
   ]
  },
  {
   "cell_type": "code",
   "execution_count": 77,
   "id": "76d63f74-830c-40ce-80c8-5d48017dbecf",
   "metadata": {},
   "outputs": [],
   "source": [
    "def classifier():\n",
    "    model = tf.keras.models.Sequential()\n",
    "    model.add( tf.keras.layers.Dense(16, activation=tf.nn.relu, input_shape=(5,)))\n",
    "    \n",
    "    model.add( tf.keras.layers.Dense(8, activation=tf.nn.relu))\n",
    "    #model.add(tf.keras.layers.Dropout(0.5))\n",
    "    #model.add( tf.keras.layers.Dense(4, activation=tf.nn.relu))\n",
    "    model.add( tf.keras.layers.Dense(1))\n",
    "    return model\n",
    "model = classifier()\n",
    "model.compile(loss=tf.keras.losses.MeanSquaredError(), optimizer=tf.keras.optimizers.Adam(learning_rate=0.1))"
   ]
  },
  {
   "cell_type": "code",
   "execution_count": 78,
   "id": "76a12540-52f6-431a-8e53-d0d14b1031ad",
   "metadata": {},
   "outputs": [
    {
     "name": "stdout",
     "output_type": "stream",
     "text": [
      "Model: \"sequential_13\"\n",
      "_________________________________________________________________\n",
      "Layer (type)                 Output Shape              Param #   \n",
      "=================================================================\n",
      "dense_41 (Dense)             (None, 16)                96        \n",
      "_________________________________________________________________\n",
      "dense_42 (Dense)             (None, 8)                 136       \n",
      "_________________________________________________________________\n",
      "dense_43 (Dense)             (None, 1)                 9         \n",
      "=================================================================\n",
      "Total params: 241\n",
      "Trainable params: 241\n",
      "Non-trainable params: 0\n",
      "_________________________________________________________________\n"
     ]
    }
   ],
   "source": [
    "model.summary()"
   ]
  },
  {
   "cell_type": "code",
   "execution_count": 79,
   "id": "b8e9cacf-dfe6-44e0-874c-138b2a7ceb05",
   "metadata": {},
   "outputs": [
    {
     "name": "stdout",
     "output_type": "stream",
     "text": [
      "Train on 1054872 samples, validate on 263718 samples\n",
      "Epoch 1/10\n",
      "1054872/1054872 [==============================] - 4s 4us/sample - loss: 2.9868 - val_loss: 0.6714\n",
      "Epoch 2/10\n",
      "1054872/1054872 [==============================] - 4s 4us/sample - loss: 2.5454 - val_loss: 0.5772\n",
      "Epoch 3/10\n",
      "1054872/1054872 [==============================] - 4s 4us/sample - loss: 2.4769 - val_loss: 1.2516\n",
      "Epoch 4/10\n",
      "1054872/1054872 [==============================] - 4s 4us/sample - loss: 2.4471 - val_loss: 1.1784\n",
      "Epoch 5/10\n",
      "1054872/1054872 [==============================] - 4s 4us/sample - loss: 2.4279 - val_loss: 1.1291\n",
      "Epoch 6/10\n",
      "1054872/1054872 [==============================] - 4s 4us/sample - loss: 2.4234 - val_loss: 1.6248\n",
      "Epoch 7/10\n",
      "1054872/1054872 [==============================] - 4s 4us/sample - loss: 2.4252 - val_loss: 1.3014\n",
      "Epoch 8/10\n",
      "1054872/1054872 [==============================] - 4s 4us/sample - loss: 2.4109 - val_loss: 1.6124\n",
      "Epoch 9/10\n",
      "1054872/1054872 [==============================] - 4s 4us/sample - loss: 2.4300 - val_loss: 1.6727\n",
      "Epoch 10/10\n",
      "1054872/1054872 [==============================] - 4s 4us/sample - loss: 2.4326 - val_loss: 0.8908\n"
     ]
    },
    {
     "data": {
      "text/plain": [
       "<tensorflow.python.keras.callbacks.History at 0x1f09acc6bc8>"
      ]
     },
     "execution_count": 79,
     "metadata": {},
     "output_type": "execute_result"
    }
   ],
   "source": [
    "X_scaled = X_scaled.reshape(-1,5)\n",
    "model.fit(X_scaled,Y,epochs=10, shuffle=True,validation_split=0.2, batch_size=256)"
   ]
  },
  {
   "cell_type": "code",
   "execution_count": 80,
   "id": "35b2164a-9ef5-4084-be36-0697236e1868",
   "metadata": {},
   "outputs": [],
   "source": [
    "abs_error = model.predict(X_scaled).reshape(-1) - np.array(Y).reshape(-1)"
   ]
  },
  {
   "cell_type": "code",
   "execution_count": 81,
   "id": "5fc6d07c-37ab-4e3f-9b00-b51f2e61b7de",
   "metadata": {},
   "outputs": [
    {
     "data": {
      "image/png": "[encoded data removed]",
      "text/plain": [
       "<Figure size 640x480 with 1 Axes>"
      ]
     },
     "metadata": {},
     "output_type": "display_data"
    }
   ],
   "source": [
    "import matplotlib.pyplot as plt\n",
    "min = np.min(abs_error)\n",
    "max = np.max(abs_error)\n",
    "\n",
    "bins = np.linspace(min, max, 100)\n",
    "\n",
    "plt.hist(abs_error, bins, label='absolute Loss')\n",
    "plt.legend(loc='upper right')\n",
    "plt.show()"
   ]
  },
  {
   "cell_type": "code",
   "execution_count": null,
   "id": "12ece86c-1ee2-4e67-a1c7-9b68d0fe3304",
   "metadata": {},
   "outputs": [],
   "source": []
  },
  {
   "cell_type": "code",
   "execution_count": null,
   "id": "bad3b281-42df-46b6-9b1b-ffb029fa4f5d",
   "metadata": {},
   "outputs": [],
   "source": []
  },
  {
   "cell_type": "code",
   "execution_count": null,
   "id": "eef3c0cf-ffff-4bea-b583-9f9dd8c294e7",
   "metadata": {},
   "outputs": [],
   "source": []
  }
 ],
 "metadata": {
  "kernelspec": {
   "display_name": "lab",
   "language": "python",
   "name": "lab"
  },
  "language_info": {
   "codemirror_mode": {
    "name": "ipython",
    "version": 3
   },
   "file_extension": ".py",
   "mimetype": "text/x-python",
   "name": "python",
   "nbconvert_exporter": "python",
   "pygments_lexer": "ipython3",
   "version": "3.7.11"
  }
 },
 "nbformat": 4,
 "nbformat_minor": 5
}
